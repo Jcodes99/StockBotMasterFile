{
 "cells": [
  {
   "cell_type": "markdown",
   "metadata": {
    "tags": []
   },
   "source": [
    "# Stock Bot Master Project File\n",
    "\n",
    "Hello Team, this will be the master file for the StockBot 1.0.\n",
    "Project Overview\n",
    "\n",
    "END PRODUCT \n",
    "\n",
    "- EMAIL/TEXT \n",
    "\t- table of current prices and changes from last update\n",
    "\t- Recommendation about trajectories\n",
    "\t\t- SMA/LMA display over graph\n",
    "\t\t- Graphs for other tickers maybe\n",
    "\t- Graph of past N days\n",
    "\t- Graph of trajectory (Lin Reg etc)\n",
    "\n",
    "There will be 4 core parts to this project at its current stage (one for each team member)\n",
    "\n",
    "table of current prices and changes from last update - aaron\n",
    "- data of last update\n",
    "- data of current prices\n",
    "    \n",
    "Recommendation about trajectories - todd\n",
    "- daily closes for past N months\n",
    "- Calculate SMA/LMA from aformentioned data\n",
    "- graph SMA/LMA over daily closes\n",
    "    \n",
    "Graph of past N days - catherine\n",
    "- daily closes and percent changes for past N days\n",
    "    \n",
    "Graph of trajectory (Lin Reg etc) - Later\n",
    "- daily closes of past N months \n",
    "- MA of daily closes\n",
    "- Lin Reg for MA\n"
   ]
  },
  {
   "cell_type": "code",
   "execution_count": 2,
   "metadata": {},
   "outputs": [],
   "source": [
    "# Here is the current list of imports, if I left any out feel free to add them to your own personal copy and make a note of whats missing in slack\n",
    "import os\n",
    "import requests\n",
    "import json\n",
    "import pandas as pd\n",
    "from dotenv import load_dotenv\n",
    "import alpaca_trade_api as tradeapi\n",
    "from MCForecastTools import MCSimulation\n",
    "\n",
    "%matplotlib inline"
   ]
  },
  {
   "cell_type": "code",
   "execution_count": 3,
   "metadata": {},
   "outputs": [
    {
     "data": {
      "text/plain": [
       "True"
      ]
     },
     "execution_count": 3,
     "metadata": {},
     "output_type": "execute_result"
    }
   ],
   "source": [
    "# Load the environment variables from the .env file\n",
    "#Use the load_dotenv function to pull in your own API keys, \n",
    "#for convenience I'm leaving a copy of my own API keys in this one (please do not store this copy of the keys.env file on your own device)\n",
    "load_dotenv('keys.env')"
   ]
  },
  {
   "cell_type": "markdown",
   "metadata": {},
   "source": [
    "## Part 1: table of current prices and changes from last update - aaron"
   ]
  },
  {
   "cell_type": "markdown",
   "metadata": {},
   "source": [
    "### Create A Set of Variables Listing the Current & Previous Prices of all relevant Stocks, and Cryptos\n",
    "\n",
    "There will be 2 variable sets\n",
    "\n",
    "Set 1 - Variables Listing the Current_Price\n",
    "\n",
    "- This data will be pulled from the .json files provided by the Alpacas API \n",
    "- (Jaime Has Already Pulled that data refer to his git repository link in slack to transfer this data)\n",
    "- Set the relevant data to Variables Ex: Current_Price_Bitcoin = _____\n",
    "\n",
    "Set 2 - Variables Listing the Previous_Price\n",
    "- This data will be pulled from the last time the file has updated\n",
    "- IMPORTANT: We will not be able to pull this data until we have the project running in PyScripts\n",
    "- For now lets just create a Mock Set of Previous_Price variables, to ensure they will be able to run properly in relation to the Current_Price\n"
   ]
  },
  {
   "cell_type": "markdown",
   "metadata": {},
   "source": [
    "#### Step 1.1: Create variables for `Current_Price`."
   ]
  },
  {
   "cell_type": "markdown",
   "metadata": {},
   "source": [
    "#### Here are the API Url's For BTC, and ETH, (we need to add Doge)"
   ]
  },
  {
   "cell_type": "code",
   "execution_count": 5,
   "metadata": {},
   "outputs": [],
   "source": [
    "# The Free Crypto API Call endpoint URLs for the held cryptocurrency assets\n",
    "btc_url = \"https://api.alternative.me/v2/ticker/Bitcoin/?convert=USD\"\n",
    "eth_url = \"https://api.alternative.me/v2/ticker/Ethereum/?convert=USD\"\n",
    "\n",
    "# doge_url = \"\""
   ]
  },
  {
   "cell_type": "markdown",
   "metadata": {},
   "source": [
    "#### Step 2. Use the Requests library to get the current price (in US dollars) of Bitcoin (BTC) Ethereum (ETH) and DogeCoin (DOGE) by using the above API endpoints."
   ]
  },
  {
   "cell_type": "code",
   "execution_count": 6,
   "metadata": {},
   "outputs": [
    {
     "name": "stdout",
     "output_type": "stream",
     "text": [
      "{\n",
      "    \"data\": {\n",
      "        \"1\": {\n",
      "            \"circulating_supply\": 19019006,\n",
      "            \"id\": 1,\n",
      "            \"last_updated\": 1650649943,\n",
      "            \"max_supply\": 21000000,\n",
      "            \"name\": \"Bitcoin\",\n",
      "            \"quotes\": {\n",
      "                \"USD\": {\n",
      "                    \"market_cap\": 750708962939,\n",
      "                    \"percent_change_1h\": -0.136495073781489,\n",
      "                    \"percent_change_24h\": -5.37607886221849,\n",
      "                    \"percent_change_7d\": -1.32794629247277,\n",
      "                    \"percentage_change_1h\": -0.136495073781489,\n",
      "                    \"percentage_change_24h\": -5.37607886221849,\n",
      "                    \"percentage_change_7d\": -1.32794629247277,\n",
      "                    \"price\": 39429.0,\n",
      "                    \"volume_24h\": 49344677481\n",
      "                }\n",
      "            },\n",
      "            \"rank\": 1,\n",
      "            \"symbol\": \"BTC\",\n",
      "            \"total_supply\": 19019006,\n",
      "            \"website_slug\": \"bitcoin\"\n",
      "        }\n",
      "    },\n",
      "    \"metadata\": {\n",
      "        \"error\": null,\n",
      "        \"num_cryptocurrencies\": 3106,\n",
      "        \"timestamp\": 1650649943\n",
      "    }\n",
      "}\n"
     ]
    }
   ],
   "source": [
    "# Use the Python requests library, make an API call to access the current price of BTC\n",
    "btc_response = requests.get(btc_url).json()\n",
    "\n",
    "# Use the json.dumps function to review the response data from the API call\n",
    "# Use the indent and sort_keys parameters to make the response object readable\n",
    "\n",
    "print(json.dumps(btc_response, indent=4, sort_keys=True))"
   ]
  },
  {
   "cell_type": "code",
   "execution_count": 7,
   "metadata": {},
   "outputs": [
    {
     "name": "stdout",
     "output_type": "stream",
     "text": [
      "{\n",
      "    \"data\": {\n",
      "        \"1027\": {\n",
      "            \"circulating_supply\": 120484941,\n",
      "            \"id\": 1027,\n",
      "            \"last_updated\": 1650649986,\n",
      "            \"max_supply\": 0,\n",
      "            \"name\": \"Ethereum\",\n",
      "            \"quotes\": {\n",
      "                \"USD\": {\n",
      "                    \"market_cap\": 356936980125,\n",
      "                    \"percent_change_1h\": 0.0741584124389668,\n",
      "                    \"percent_change_24h\": -3.61756818503304,\n",
      "                    \"percent_change_7d\": -2.06225860901671,\n",
      "                    \"percentage_change_1h\": 0.0741584124389668,\n",
      "                    \"percentage_change_24h\": -3.61756818503304,\n",
      "                    \"percentage_change_7d\": -2.06225860901671,\n",
      "                    \"price\": 2961.07,\n",
      "                    \"volume_24h\": 19414393383\n",
      "                }\n",
      "            },\n",
      "            \"rank\": 2,\n",
      "            \"symbol\": \"ETH\",\n",
      "            \"total_supply\": 120484941,\n",
      "            \"website_slug\": \"ethereum\"\n",
      "        }\n",
      "    },\n",
      "    \"metadata\": {\n",
      "        \"error\": null,\n",
      "        \"num_cryptocurrencies\": 3106,\n",
      "        \"timestamp\": 1650649986\n",
      "    }\n",
      "}\n"
     ]
    }
   ],
   "source": [
    "# Use the Python requests library, make an API call to access the current price ETH\n",
    "eth_response = requests.get(eth_url).json()\n",
    "\n",
    "# Use the json.dumps function to review the response data from the API call\n",
    "# Use the indent and sort_keys parameters to make the response object readable\n",
    "\n",
    "print(json.dumps(eth_response, indent=4, sort_keys=True))"
   ]
  },
  {
   "cell_type": "code",
   "execution_count": null,
   "metadata": {},
   "outputs": [],
   "source": [
    "# Use the Python requests library, make an API call to access the current price DOGE\n",
    "\n",
    "###doge_response = requests.get(doge_url).json()\n",
    "\n",
    "# Use the json.dumps function to review the response data from the API call\n",
    "# Use the indent and sort_keys parameters to make the response object readable\n",
    "\n",
    "###print(json.dumps(doge_response, indent= , sort_keys=True))"
   ]
  },
  {
   "cell_type": "markdown",
   "metadata": {
    "tags": []
   },
   "source": [
    "#### Step 3: Navigate the JSON response object to access the current price of each coin, and store each in a variable."
   ]
  },
  {
   "cell_type": "code",
   "execution_count": 8,
   "metadata": {},
   "outputs": [
    {
     "data": {
      "text/plain": [
       "39429.0"
      ]
     },
     "execution_count": 8,
     "metadata": {},
     "output_type": "execute_result"
    }
   ],
   "source": [
    "# Navigate the BTC response object to access the current price of BTC\n",
    "btc_price = btc_response['data']['1']['quotes']['USD']['price']\n",
    "\n",
    "# Print the current price of BTC\n",
    "\n",
    "btc_price"
   ]
  },
  {
   "cell_type": "code",
   "execution_count": 9,
   "metadata": {},
   "outputs": [
    {
     "data": {
      "text/plain": [
       "2961.07"
      ]
     },
     "execution_count": 9,
     "metadata": {},
     "output_type": "execute_result"
    }
   ],
   "source": [
    "# Navigate the BTC response object to access the current price of ETH\n",
    "eth_price = eth_response['data']['1027']['quotes']['USD']['price']\n",
    "\n",
    "# Print the current price of ETH\n",
    "\n",
    "eth_price"
   ]
  },
  {
   "cell_type": "code",
   "execution_count": null,
   "metadata": {},
   "outputs": [],
   "source": [
    "# Navigate the DOGE response object to access the current price of DOGE\n",
    "#####doge_price = doge_response['data']['xxx']['xxx']['USD']['price']\n",
    "\n",
    "# Print the current price of ETH\n",
    "\n",
    "#####doge_price"
   ]
  },
  {
   "cell_type": "markdown",
   "metadata": {},
   "source": [
    "### Step 4: Asemble a DF of the Previous Crypto's"
   ]
  },
  {
   "cell_type": "code",
   "execution_count": 4,
   "metadata": {},
   "outputs": [],
   "source": [
    "####DATA FRAME HERE####"
   ]
  },
  {
   "cell_type": "code",
   "execution_count": 5,
   "metadata": {},
   "outputs": [],
   "source": [
    "####PRINT TABLE HERE####"
   ]
  },
  {
   "cell_type": "code",
   "execution_count": 6,
   "metadata": {},
   "outputs": [],
   "source": [
    "####CREATE TESTER PLOT HERE####"
   ]
  },
  {
   "cell_type": "markdown",
   "metadata": {},
   "source": [
    "### Step1.2: Create Variables and DataFrames for S&P500 and NASDAQ.\n",
    "\n",
    "-Essentially we are going to rinse and repeat what we just did\n",
    "\n",
    "Step 1: Pull in the relevant data from Alpacas\n",
    "\n",
    "Step 2: Create Variables for Each 'Current_Price' of each stock\n",
    "\n",
    "Step 3: Create DataFrames of S&P500 and NASDAQ\n"
   ]
  },
  {
   "cell_type": "markdown",
   "metadata": {},
   "source": [
    "#### Step 1: API Keys"
   ]
  },
  {
   "cell_type": "code",
   "execution_count": 7,
   "metadata": {},
   "outputs": [],
   "source": [
    "# Set the variables for the Alpaca API and secret keys\n",
    "AlpacaKey = os.getenv('ALPACA_API_KEY')\n",
    "AlpacaSkey = os.getenv('ALPACA_SECRET_KEY')\n",
    "\n",
    "# Create the Alpaca tradeapi.REST object\n",
    "\n",
    "Alpaca = tradeapi.REST(AlpacaKey,AlpacaSkey,api_version='v2')\n"
   ]
  },
  {
   "cell_type": "markdown",
   "metadata": {},
   "source": [
    "#### Step 2: Create Variables for Each 'Current_Price' of each stock (current value of each share in USD)"
   ]
  },
  {
   "cell_type": "code",
   "execution_count": null,
   "metadata": {},
   "outputs": [],
   "source": []
  },
  {
   "cell_type": "markdown",
   "metadata": {},
   "source": [
    "#### Step 3: Create DataFrames of S&P500 and NASDAQ"
   ]
  },
  {
   "cell_type": "code",
   "execution_count": null,
   "metadata": {},
   "outputs": [],
   "source": []
  },
  {
   "cell_type": "markdown",
   "metadata": {},
   "source": [
    "### Part 2: Recommendation about trajectories - todd\n",
    "\n",
    "Using the data Jaime Provided of our Cyptos and Stocks calculate the following\n",
    "- daily closes for past N months\n",
    "- Calculate SMA/LMA from aformentioned data\n",
    "- graph SMA/LMA over daily closes\n",
    "\n",
    "side note: For now assume N=20 months, \n",
    "\n",
    "Todd if you're reading this once you have completed the above tasks and sent your code to Aaron you are more than welcome to pull the above data into your own personal copy of the project and go absolutely 'ape shit' with your own calculations, feel free to share them with the rest of us, if we are ahead of our deadlines and schedule we can defintely integrate whatever additional datasets and charts you'd like :)"
   ]
  },
  {
   "cell_type": "markdown",
   "metadata": {},
   "source": [
    "#### Step 1: Create a Dataframe Showing the daily closes of each stock for the past N months"
   ]
  },
  {
   "cell_type": "code",
   "execution_count": 9,
   "metadata": {},
   "outputs": [],
   "source": [
    "#Your DataFrame Below\n"
   ]
  },
  {
   "cell_type": "markdown",
   "metadata": {},
   "source": [
    "#### Step 2: Calculate the SMA/LMA from afformentioned Data"
   ]
  },
  {
   "cell_type": "code",
   "execution_count": null,
   "metadata": {},
   "outputs": [],
   "source": [
    "###SMA-cell\n"
   ]
  },
  {
   "cell_type": "code",
   "execution_count": null,
   "metadata": {},
   "outputs": [],
   "source": [
    "###LMA-cell\n"
   ]
  },
  {
   "cell_type": "markdown",
   "metadata": {},
   "source": [
    "#### Step 3: Graph SMA/LMA over daily closes"
   ]
  },
  {
   "cell_type": "code",
   "execution_count": 8,
   "metadata": {},
   "outputs": [],
   "source": [
    "###SMA_Graph-cell"
   ]
  },
  {
   "cell_type": "code",
   "execution_count": null,
   "metadata": {},
   "outputs": [],
   "source": [
    "###LMA-Graph-cell"
   ]
  },
  {
   "cell_type": "markdown",
   "metadata": {},
   "source": [
    "#### Part 3: Graph of past N days - catherine\n",
    "\n",
    "Graph the daily closes and percent changes for past N days\n",
    "\n",
    "- I would separate this section into two steps\n",
    "\n",
    "Step 1 - Graph of Daily Closes\n",
    "\n",
    "contents\n",
    "\n",
    "a cell containg a dataframe made up of the daily closes for the last N days\n",
    "\n",
    "another cell that wil print out a simple graph showing the daily closes across the specified timeframe of N days\n",
    "\n",
    "\n",
    "Step 2 - Graph of Percent Changes\n",
    "\n",
    "contents\n",
    "\n",
    "a cell containing a dataframe made up of the percent changes for the last N days\n",
    "\n",
    "another cell that will print out a simple graph showing the percent changes across the specified timeframe of N days\n",
    "\n",
    "- For now Assume N=20 months\n",
    "- You can add more visualizations by importing PyViz or using the standard sets of plots and graphs in the PANDAS Library after you have one for each Step. \n",
    "- Only include charts that you think would help the user of this product visualize the daily closes and percent changes over a specified time frame, in other words a Pie Chart or Whikser Plot wouldn't be a helpful tool to visualize this data. Think linear charts on an (x,y) graph. "
   ]
  },
  {
   "cell_type": "markdown",
   "metadata": {},
   "source": [
    "##### Step 1 - Graph of Daily Closes"
   ]
  },
  {
   "cell_type": "code",
   "execution_count": null,
   "metadata": {},
   "outputs": [],
   "source": [
    "#cell 1 - this cell is for containg a dataframe made up of the daily closes for the last N days\n",
    "#Your Code Below\n"
   ]
  },
  {
   "cell_type": "code",
   "execution_count": null,
   "metadata": {},
   "outputs": [],
   "source": [
    "#cell 2 - this cell is for displayin a simple graph showing the daily closes across the specified timeframe of N days\n",
    "#Your Code Below\n"
   ]
  },
  {
   "cell_type": "markdown",
   "metadata": {},
   "source": [
    "##### Step 2 - Graph of Percent Changes"
   ]
  },
  {
   "cell_type": "code",
   "execution_count": null,
   "metadata": {},
   "outputs": [],
   "source": [
    "#cell 3 - this cell is for containing a dataframe made up of the percent changes for the last N days\n",
    "#Your Code Below\n"
   ]
  },
  {
   "cell_type": "code",
   "execution_count": null,
   "metadata": {},
   "outputs": [],
   "source": [
    "#cell 4 - this cell is for displauing a simple graph showing the percent changes across the specified timeframe of N days\n"
   ]
  },
  {
   "cell_type": "markdown",
   "metadata": {},
   "source": [
    "#### Part 4: Graph of trajectory (Lin Reg etc) - Later\n",
    "\n",
    "-this section of the project has not yet been assigned to anybody, however it will contain a set of graphs that forecast/display trajcetories of the afformentioned cryptos and stocks over a short-term peried (i.e 24 hours, 1-week.)"
   ]
  },
  {
   "cell_type": "code",
   "execution_count": null,
   "metadata": {},
   "outputs": [],
   "source": []
  }
 ],
 "metadata": {
  "kernelspec": {
   "display_name": "Python 3 (ipykernel)",
   "language": "python",
   "name": "python3"
  },
  "language_info": {
   "codemirror_mode": {
    "name": "ipython",
    "version": 3
   },
   "file_extension": ".py",
   "mimetype": "text/x-python",
   "name": "python",
   "nbconvert_exporter": "python",
   "pygments_lexer": "ipython3",
   "version": "3.9.7"
  }
 },
 "nbformat": 4,
 "nbformat_minor": 4
}
